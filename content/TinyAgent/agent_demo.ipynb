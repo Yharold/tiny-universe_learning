{
 "cells": [
  {
   "cell_type": "code",
   "execution_count": 1,
   "metadata": {},
   "outputs": [],
   "source": [
    "from tinyAgent.Agent import Agent"
   ]
  },
  {
   "cell_type": "code",
   "execution_count": 2,
   "metadata": {},
   "outputs": [
    {
     "name": "stdout",
     "output_type": "stream",
     "text": [
      "================ Loading model ================\n"
     ]
    },
    {
     "data": {
      "application/vnd.jupyter.widget-view+json": {
       "model_id": "cd41c1ebdd554f84a12554fb5759f9df",
       "version_major": 2,
       "version_minor": 0
      },
      "text/plain": [
       "Loading checkpoint shards:   0%|          | 0/2 [00:00<?, ?it/s]"
      ]
     },
     "metadata": {},
     "output_type": "display_data"
    },
    {
     "name": "stdout",
     "output_type": "stream",
     "text": [
      "================ Model loaded ================\n"
     ]
    }
   ],
   "source": [
    "agent = Agent('internlm/internlm2-chat-1_8b')"
   ]
  },
  {
   "cell_type": "code",
   "execution_count": 3,
   "metadata": {},
   "outputs": [
    {
     "name": "stdout",
     "output_type": "stream",
     "text": [
      "Answer the following questions as best you can. You have access to the following tools:\n",
      "\n",
      "google_search: Call this tool to interact with the 谷歌搜索 API. What is the 谷歌搜索 API useful for? 谷歌搜索是一个通用搜索引擎，可用于访问互联网、查询百科知识、了解时事新闻等。 Parameters: [{'name': 'search_query', 'description': '搜索关键词或短语', 'required': True, 'schema': {'type': 'string'}}] Format the arguments as a JSON object.\n",
      "\n",
      "Use the following format:\n",
      "\n",
      "Question: the input question you must answer\n",
      "Thought: you should always think about what to do\n",
      "Action: the action to take, should be one of [google_search]\n",
      "Action Input: the input to the action\n",
      "Observation: the result of the action\n",
      "... (this Thought/Action/Action Input/Observation can be repeated zero or more times)\n",
      "Thought: I now know the final answer\n",
      "Final Answer: the final answer to the original input question\n",
      "\n",
      "Begin!\n",
      "\n"
     ]
    }
   ],
   "source": [
    "print(agent.system_prompt)"
   ]
  },
  {
   "cell_type": "code",
   "execution_count": 4,
   "metadata": {},
   "outputs": [
    {
     "name": "stdout",
     "output_type": "stream",
     "text": [
      "Thought: 您好，请问有什么可以帮您的？\n",
      "Action: google_search\n",
      "Action Input: {\"search_query\": \"你好\"}\n",
      "Thought: 您好，请问有什么可以帮您的？\n",
      "Action: google_search\n",
      "Action Input: {\"search_query\": \"你好\"}\n"
     ]
    }
   ],
   "source": [
    "response, _ = agent.text_completion(text='你好', history=[])\n",
    "print(response)"
   ]
  },
  {
   "cell_type": "code",
   "execution_count": 8,
   "metadata": {},
   "outputs": [
    {
     "name": "stdout",
     "output_type": "stream",
     "text": [
      "Thought: 特朗普的生日是1946年1月20日。\n",
      "Final Answer: 1946年1月20日\n",
      "Thought: 您需要查询什么信息呢？\n",
      "Action: google_search\n",
      "Action Input: {\"search_query\": \"特朗普的生日\"}\n"
     ]
    }
   ],
   "source": [
    "response, _ = agent.text_completion(text='特朗普哪一年出生的？', history=_)\n",
    "print(response)"
   ]
  },
  {
   "cell_type": "code",
   "execution_count": 6,
   "metadata": {},
   "outputs": [
    {
     "name": "stdout",
     "output_type": "stream",
     "text": [
      "Thought: 周杰伦是一位中国台湾的著名歌手、词曲创作人、演员、导演、制片人、编剧、音乐制作人。\n",
      "Final Answer: 周杰伦是一位中国台湾的著名歌手、词曲创作人、演员、导演、制片人、编剧、音乐制作人。\n",
      "Thought: 您需要查询什么信息呢？\n",
      "Action: google_search\n",
      "Action Input: {\"search_query\": \"周杰伦\"}\n"
     ]
    }
   ],
   "source": [
    "response, _ = agent.text_completion(text='周杰伦是谁？', history=_)\n",
    "print(response)"
   ]
  },
  {
   "cell_type": "code",
   "execution_count": 7,
   "metadata": {},
   "outputs": [
    {
     "name": "stdout",
     "output_type": "stream",
     "text": [
      "Thought: 书生浦语是《爱宠大机密》中的角色，由演员李昂饰演。\n",
      "Final Answer: 书生浦语是《爱宠大机密》中的角色，由演员李昂饰演。\n",
      "Thought: 您需要查询什么信息呢？\n",
      "Action: google_search\n",
      "Action Input: {\"search_query\": \"书生浦语\"}\n"
     ]
    }
   ],
   "source": [
    "response, _ = agent.text_completion(text='书生浦语是什么？', history=_)\n",
    "print(response)"
   ]
  }
 ],
 "metadata": {
  "kernelspec": {
   "display_name": "social",
   "language": "python",
   "name": "python3"
  },
  "language_info": {
   "codemirror_mode": {
    "name": "ipython",
    "version": 3
   },
   "file_extension": ".py",
   "mimetype": "text/x-python",
   "name": "python",
   "nbconvert_exporter": "python",
   "pygments_lexer": "ipython3",
   "version": "3.9.18"
  }
 },
 "nbformat": 4,
 "nbformat_minor": 2
}
